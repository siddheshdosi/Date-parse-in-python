{
 "cells": [
  {
   "cell_type": "code",
   "execution_count": 1,
   "metadata": {},
   "outputs": [],
   "source": [
    "import re"
   ]
  },
  {
   "cell_type": "code",
   "execution_count": 60,
   "metadata": {},
   "outputs": [],
   "source": [
    "class DateParser:\n",
    "    def __init__(self):\n",
    "        self.parser_list_1 = ['\\d{1,2}-\\d{1,2}-\\d{4}','\\d{4}-\\d{1,2}-\\d{1,2}','\\d{1,2}-\\d{1,2}-\\d{2}']\n",
    "        self.parser_list_2 = ['\\d{1,2}/\\d{1,2}/\\d{2,4}','\\d{4}/\\d{1,2}/\\d{1,2}','\\d{1,2}/\\d{1,2}/\\d{2}']\n",
    "        self.parser_list_3 = ['\\d{1,2}th \\w\\w\\w \\d{2,4}', '\\d{2,4} \\w\\w\\w \\d{1,2}']\n",
    "        '''\n",
    "            add more regex as much as you can \n",
    "        '''\n",
    "        \n",
    "    def parse_date(self,sentence):\n",
    "        self.parser_list = self.parser_list_1 + self.parser_list_2 + self.parser_list_3\n",
    "        self.parser_str = '|'.join(self.parser_list)\n",
    "        return re.findall(self.parser_str,sentence)"
   ]
  },
  {
   "cell_type": "code",
   "execution_count": 62,
   "metadata": {},
   "outputs": [
    {
     "data": {
      "text/plain": [
       "['10-10-2020', '10th Aug 2020', '11-12-20']"
      ]
     },
     "execution_count": 62,
     "metadata": {},
     "output_type": "execute_result"
    }
   ],
   "source": [
    "doc = '10-10-2020 patient came \\n 10th Aug 2020 patient came \\n 11-12-20 patient came'\n",
    "parser = DateParser()\n",
    "parser.parse_date(doc)"
   ]
  },
  {
   "cell_type": "code",
   "execution_count": null,
   "metadata": {},
   "outputs": [],
   "source": []
  },
  {
   "cell_type": "code",
   "execution_count": null,
   "metadata": {},
   "outputs": [],
   "source": []
  }
 ],
 "metadata": {
  "kernelspec": {
   "display_name": "Python 3",
   "language": "python",
   "name": "python3"
  },
  "language_info": {
   "codemirror_mode": {
    "name": "ipython",
    "version": 3
   },
   "file_extension": ".py",
   "mimetype": "text/x-python",
   "name": "python",
   "nbconvert_exporter": "python",
   "pygments_lexer": "ipython3",
   "version": "3.7.3"
  }
 },
 "nbformat": 4,
 "nbformat_minor": 2
}
